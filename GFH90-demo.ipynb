{
 "cells": [
  {
   "cell_type": "markdown",
   "metadata": {},
   "source": [
    "# LatticeGFH90.jl\n",
    "\n",
    "The package is based on `Nemo` and adds the possibility to compute *compatible* embeddings between Nemo's finite fields."
   ]
  },
  {
   "cell_type": "code",
   "execution_count": 1,
   "metadata": {
    "slideshow": {
     "slide_type": "subslide"
    }
   },
   "outputs": [
    {
     "name": "stdout",
     "output_type": "stream",
     "text": [
      "\n",
      "Welcome to Nemo version 0.12.1\n",
      "\n",
      "Nemo comes with absolutely no warranty whatsoever\n",
      "\n"
     ]
    }
   ],
   "source": [
    "using Nemo, LatticeGFH90"
   ]
  },
  {
   "cell_type": "markdown",
   "metadata": {},
   "source": [
    "For this short demo, we work with the characteristic $p=5$. This is an arbitrary choice: any word-sized prime number $p$ can be chosen."
   ]
  },
  {
   "cell_type": "code",
   "execution_count": 2,
   "metadata": {},
   "outputs": [
    {
     "data": {
      "text/plain": [
       "5"
      ]
     },
     "execution_count": 2,
     "metadata": {},
     "output_type": "execute_result"
    }
   ],
   "source": [
    "p = 5"
   ]
  },
  {
   "cell_type": "markdown",
   "metadata": {},
   "source": [
    "Because our algorithms rely on the availability of *Conway polynomials*, we first have to import them from a data base."
   ]
  },
  {
   "cell_type": "code",
   "execution_count": 3,
   "metadata": {},
   "outputs": [],
   "source": [
    "make_zetas_conway(p)"
   ]
  },
  {
   "cell_type": "markdown",
   "metadata": {},
   "source": [
    "The *documentation* of a function can be obtained by using `?`:"
   ]
  },
  {
   "cell_type": "code",
   "execution_count": 4,
   "metadata": {},
   "outputs": [
    {
     "name": "stdout",
     "output_type": "stream",
     "text": [
      "search: \u001b[0m\u001b[1mm\u001b[22m\u001b[0m\u001b[1ma\u001b[22m\u001b[0m\u001b[1mk\u001b[22m\u001b[0m\u001b[1me\u001b[22m\u001b[0m\u001b[1m_\u001b[22m\u001b[0m\u001b[1mz\u001b[22m\u001b[0m\u001b[1me\u001b[22m\u001b[0m\u001b[1mt\u001b[22m\u001b[0m\u001b[1ma\u001b[22m\u001b[0m\u001b[1ms\u001b[22m\u001b[0m\u001b[1m_\u001b[22m\u001b[0m\u001b[1mc\u001b[22m\u001b[0m\u001b[1mo\u001b[22m\u001b[0m\u001b[1mn\u001b[22m\u001b[0m\u001b[1mw\u001b[22m\u001b[0m\u001b[1ma\u001b[22m\u001b[0m\u001b[1my\u001b[22m\n",
      "\n"
     ]
    },
    {
     "data": {
      "text/latex": [
       "\\begin{verbatim}\n",
       "make_zetas_conway(p::Int, m::Int = 100)\n",
       "\\end{verbatim}\n",
       "Compute the minimal polynomial of the root $ζ_{p^d-1}$ for  all 1 <= d <= m for which we have a Conway polynomial.\n",
       "\n"
      ],
      "text/markdown": [
       "```\n",
       "make_zetas_conway(p::Int, m::Int = 100)\n",
       "```\n",
       "\n",
       "Compute the minimal polynomial of the root $ζ_{p^d-1}$ for  all 1 <= d <= m for which we have a Conway polynomial.\n"
      ],
      "text/plain": [
       "\u001b[36m  make_zetas_conway(p::Int, m::Int = 100)\u001b[39m\n",
       "\n",
       "  Compute the minimal polynomial of the root \u001b[35mζ_{p^d-1}\u001b[39m for all 1 <= d <= m for\n",
       "  which we have a Conway polynomial."
      ]
     },
     "execution_count": 4,
     "metadata": {},
     "output_type": "execute_result"
    }
   ],
   "source": [
    "?make_zetas_conway"
   ]
  },
  {
   "cell_type": "markdown",
   "metadata": {},
   "source": [
    "We then create the finite fields $k_i=\\mathbb F_{p^i}=\\mathbb F_p(x_i)$ for $i\\in\\{3, 6, 12\\}$"
   ]
  },
  {
   "cell_type": "code",
   "execution_count": 5,
   "metadata": {},
   "outputs": [
    {
     "data": {
      "text/plain": [
       "(Finite field of degree 3 over F_5, x3)"
      ]
     },
     "execution_count": 5,
     "metadata": {},
     "output_type": "execute_result"
    }
   ],
   "source": [
    "k3, x3 = FiniteField(p, 3, \"x3\")"
   ]
  },
  {
   "cell_type": "code",
   "execution_count": 6,
   "metadata": {},
   "outputs": [
    {
     "data": {
      "text/plain": [
       "(Finite field of degree 6 over F_5, x6)"
      ]
     },
     "execution_count": 6,
     "metadata": {},
     "output_type": "execute_result"
    }
   ],
   "source": [
    "k6, x6 = FiniteField(p, 6, \"x6\")"
   ]
  },
  {
   "cell_type": "code",
   "execution_count": 7,
   "metadata": {},
   "outputs": [
    {
     "data": {
      "text/plain": [
       "(Finite field of degree 12 over F_5, x12)"
      ]
     },
     "execution_count": 7,
     "metadata": {},
     "output_type": "execute_result"
    }
   ],
   "source": [
    "k12, x12 = FiniteField(p, 12, \"x12\")"
   ]
  },
  {
   "cell_type": "markdown",
   "metadata": {},
   "source": [
    "And finally we compute the embeddings between our finite fields $k_3, k_6$ and $k_{12}$."
   ]
  },
  {
   "cell_type": "code",
   "execution_count": 8,
   "metadata": {
    "collapsed": true
   },
   "outputs": [],
   "source": [
    "f = embed(k3, k6);"
   ]
  },
  {
   "cell_type": "code",
   "execution_count": 9,
   "metadata": {
    "collapsed": true
   },
   "outputs": [],
   "source": [
    "g = embed(k6, k12);"
   ]
  },
  {
   "cell_type": "code",
   "execution_count": 10,
   "metadata": {
    "collapsed": true
   },
   "outputs": [],
   "source": [
    "h = embed(k3, k12);"
   ]
  },
  {
   "cell_type": "markdown",
   "metadata": {},
   "source": [
    "And we check that $g\\circ f = h$ (at least on some random value)"
   ]
  },
  {
   "cell_type": "code",
   "execution_count": 11,
   "metadata": {},
   "outputs": [
    {
     "data": {
      "text/plain": [
       "true"
      ]
     },
     "execution_count": 11,
     "metadata": {},
     "output_type": "execute_result"
    }
   ],
   "source": [
    "x = rand(k3); g(f(x)) == h(x)"
   ]
  },
  {
   "cell_type": "markdown",
   "metadata": {},
   "source": [
    "More complicated cases are tested in our [test file](https://github.com/erou/LatticeGFH90.jl/blob/master/test/embeddings-test.jl). You can test a Julia package by running `Pkg.test`:"
   ]
  },
  {
   "cell_type": "code",
   "execution_count": 12,
   "metadata": {},
   "outputs": [
    {
     "name": "stdout",
     "output_type": "stream",
     "text": [
      "\u001b[32m\u001b[1m  Updating\u001b[22m\u001b[39m registry at `~/.julia/registries/General`\n",
      "\u001b[32m\u001b[1m  Updating\u001b[22m\u001b[39m git-repo `https://github.com/JuliaRegistries/General.git`\n",
      "\u001b[?25l\u001b[2K\u001b[?25h\u001b[32m\u001b[1m   Testing\u001b[22m\u001b[39m LatticeGFH90\n",
      "\u001b[32m\u001b[1m Resolving\u001b[22m\u001b[39m package versions...\n",
      "\u001b[32m\u001b[1m    Status\u001b[22m\u001b[39m `/tmp/tmpoCAHV6/Manifest.toml`\n",
      " \u001b[90m [c3fe647b]\u001b[39m\u001b[37m AbstractAlgebra v0.4.4\u001b[39m\n",
      " \u001b[90m [a9c5af51]\u001b[39m\u001b[37m LatticeGFH90 v0.0.0 #master (https://github.com/erou/LatticeGFH90.jl)\u001b[39m\n",
      " \u001b[90m [2edaba10]\u001b[39m\u001b[37m Nemo v0.12.2\u001b[39m\n",
      " \u001b[90m [27ebfcd6]\u001b[39m\u001b[37m Primes v0.4.0\u001b[39m\n",
      " \u001b[90m [2a0f44e3]\u001b[39m\u001b[37m Base64  [`@stdlib/Base64`]\u001b[39m\n",
      " \u001b[90m [8ba89e20]\u001b[39m\u001b[37m Distributed  [`@stdlib/Distributed`]\u001b[39m\n",
      " \u001b[90m [b77e0a4c]\u001b[39m\u001b[37m InteractiveUtils  [`@stdlib/InteractiveUtils`]\u001b[39m\n",
      " \u001b[90m [8f399da3]\u001b[39m\u001b[37m Libdl  [`@stdlib/Libdl`]\u001b[39m\n",
      " \u001b[90m [37e2e46d]\u001b[39m\u001b[37m LinearAlgebra  [`@stdlib/LinearAlgebra`]\u001b[39m\n",
      " \u001b[90m [56ddb016]\u001b[39m\u001b[37m Logging  [`@stdlib/Logging`]\u001b[39m\n",
      " \u001b[90m [d6f4376e]\u001b[39m\u001b[37m Markdown  [`@stdlib/Markdown`]\u001b[39m\n",
      " \u001b[90m [9a3f8284]\u001b[39m\u001b[37m Random  [`@stdlib/Random`]\u001b[39m\n",
      " \u001b[90m [9e88b42a]\u001b[39m\u001b[37m Serialization  [`@stdlib/Serialization`]\u001b[39m\n",
      " \u001b[90m [6462fe0b]\u001b[39m\u001b[37m Sockets  [`@stdlib/Sockets`]\u001b[39m\n",
      " \u001b[90m [2f01184e]\u001b[39m\u001b[37m SparseArrays  [`@stdlib/SparseArrays`]\u001b[39m\n",
      " \u001b[90m [8dfed614]\u001b[39m\u001b[37m Test  [`@stdlib/Test`]\u001b[39m\n",
      "\n",
      "Welcome to Nemo version 0.12.1\n",
      "\n",
      "Nemo comes with absolutely no warranty whatsoever\n",
      "\n",
      "embed... PASS\n",
      "\u001b[32m\u001b[1m   Testing\u001b[22m\u001b[39m LatticeGFH90 tests passed \n"
     ]
    }
   ],
   "source": [
    "using Pkg\n",
    "Pkg.test(\"LatticeGFH90\")"
   ]
  }
 ],
 "metadata": {
  "kernelspec": {
   "display_name": "Julia 1.1.0",
   "language": "julia",
   "name": "julia-1.1"
  },
  "language_info": {
   "file_extension": ".jl",
   "mimetype": "application/julia",
   "name": "julia",
   "version": "1.1.0"
  }
 },
 "nbformat": 4,
 "nbformat_minor": 2
}
